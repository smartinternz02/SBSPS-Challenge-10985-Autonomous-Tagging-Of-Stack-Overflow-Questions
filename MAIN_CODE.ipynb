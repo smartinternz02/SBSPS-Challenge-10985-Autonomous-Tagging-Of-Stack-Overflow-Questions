{
 "cells": [
  {
   "cell_type": "markdown",
   "id": "2de2311b",
   "metadata": {},
   "source": [
    "# Loading data"
   ]
  },
  {
   "cell_type": "code",
   "execution_count": 1,
   "id": "360b232e",
   "metadata": {},
   "outputs": [
    {
     "data": {
      "text/html": [
       "<div>\n",
       "<style scoped>\n",
       "    .dataframe tbody tr th:only-of-type {\n",
       "        vertical-align: middle;\n",
       "    }\n",
       "\n",
       "    .dataframe tbody tr th {\n",
       "        vertical-align: top;\n",
       "    }\n",
       "\n",
       "    .dataframe thead th {\n",
       "        text-align: right;\n",
       "    }\n",
       "</style>\n",
       "<table border=\"1\" class=\"dataframe\">\n",
       "  <thead>\n",
       "    <tr style=\"text-align: right;\">\n",
       "      <th></th>\n",
       "      <th>title</th>\n",
       "      <th>tags</th>\n",
       "    </tr>\n",
       "  </thead>\n",
       "  <tbody>\n",
       "    <tr>\n",
       "      <th>0</th>\n",
       "      <td>How to draw a stacked dotplot in R?</td>\n",
       "      <td>['r']</td>\n",
       "    </tr>\n",
       "    <tr>\n",
       "      <th>1</th>\n",
       "      <td>mysql select all records where a datetime fiel...</td>\n",
       "      <td>['php', 'mysql']</td>\n",
       "    </tr>\n",
       "  </tbody>\n",
       "</table>\n",
       "</div>"
      ],
      "text/plain": [
       "                                               title              tags\n",
       "0                How to draw a stacked dotplot in R?             ['r']\n",
       "1  mysql select all records where a datetime fiel...  ['php', 'mysql']"
      ]
     },
     "execution_count": 1,
     "metadata": {},
     "output_type": "execute_result"
    }
   ],
   "source": [
    "import pandas as pd\n",
    "df=pd.read_csv('stackoverflowtags.csv')\n",
    "df.head(2)"
   ]
  },
  {
   "cell_type": "code",
   "execution_count": 2,
   "id": "069fbd08",
   "metadata": {},
   "outputs": [
    {
     "data": {
      "text/plain": [
       "#NAME?                                                                      5\n",
       "Conversion failed when converting date and/or time from character string    3\n",
       "Input string was not in a correct format                                    2\n",
       "Could not find default endpoint element that references contract            2\n",
       "Object reference not set to an instance of an object                        2\n",
       "                                                                           ..\n",
       "Game trees and data structures to implement them in java?                   1\n",
       "NSPredicate predicateWithFormat:(NSString*) inconsistency?                  1\n",
       "document.location.href is not working in IE                                 1\n",
       "segmentation fault in C, core dumped, gdb output                            1\n",
       "Create a List of primitive int?                                             1\n",
       "Name: title, Length: 99980, dtype: int64"
      ]
     },
     "execution_count": 2,
     "metadata": {},
     "output_type": "execute_result"
    }
   ],
   "source": [
    "df.title.value_counts() # counts the number of occurances in the data"
   ]
  },
  {
   "cell_type": "markdown",
   "id": "5810f8ad",
   "metadata": {},
   "source": [
    "# Droping Duplicates"
   ]
  },
  {
   "cell_type": "code",
   "execution_count": 3,
   "id": "4e62c2b7",
   "metadata": {},
   "outputs": [
    {
     "data": {
      "text/plain": [
       "How to draw a stacked dotplot in R?                                            1\n",
       "Hibernate JPA - ManyToOne relationship not populated                           1\n",
       "how to work treeview nodes contains in asp.net?                                1\n",
       "Initialize script                                                              1\n",
       "ASP.NET C# Must declare the scalar variable                                    1\n",
       "                                                                              ..\n",
       "Can jquery animate the css background property?                                1\n",
       "how to access variable from php in jquery using ajax(here i am using Json)     1\n",
       "Best way to handle session management in spring mvc filters or interceptors    1\n",
       "Can't run the .java file                                                       1\n",
       "Create a List of primitive int?                                                1\n",
       "Name: title, Length: 99980, dtype: int64"
      ]
     },
     "execution_count": 3,
     "metadata": {},
     "output_type": "execute_result"
    }
   ],
   "source": [
    "df.title=df.title.drop_duplicates(keep='first') # drops the duplicates\n",
    "df.title.value_counts()"
   ]
  },
  {
   "cell_type": "markdown",
   "id": "40fd95aa",
   "metadata": {},
   "source": [
    "# Text Cleaning"
   ]
  },
  {
   "cell_type": "code",
   "execution_count": 4,
   "id": "97260899",
   "metadata": {},
   "outputs": [
    {
     "data": {
      "text/plain": [
       "['how', 'to', 'draw', 'a', 'stacked', 'dotplot', 'in', 'r']"
      ]
     },
     "execution_count": 4,
     "metadata": {},
     "output_type": "execute_result"
    }
   ],
   "source": [
    "import re       # importing regular expressions used for cleaning texts\n",
    "\n",
    "# importing natural language toolkit\n",
    "# that helps in cleaning texts by using\n",
    "# stopwords, SnowballStemmer, WordNetLemmatizer libraries\n",
    "\n",
    "from nltk.corpus import stopwords \n",
    "from nltk.stem.snowball import SnowballStemmer\n",
    "from nltk.stem.wordnet import WordNetLemmatizer\n",
    "\n",
    "# function to remove html tags and other \n",
    "# unwanted stuff in the question asked by the user\n",
    "\n",
    "def clean(s):\n",
    "    s=str(s)\n",
    "    s=s.lower()\n",
    "    html=re.compile('<.*?>')   #removing html tags\n",
    "    cleaned = re.sub(html,' ',s)\n",
    "    fil=[]\n",
    "    for i in cleaned.split():    # splits the text and repalces the unwanted characters with ''\n",
    "        if i!='c++':\n",
    "            cleaned=re.sub('[^A-Za-z]', '', i) #search the pattern !(A-Z & a-z) and replace with ''\n",
    "            fil.append(cleaned)\n",
    "        else:\n",
    "            fil.append(i)\n",
    "    return fil         # returns the splitted text with removed stopwords and html tags\n",
    "\n",
    "stop=set(stopwords.words('english'))  #loading stopwords in english to compare and remove\n",
    "sno=SnowballStemmer('english')\n",
    "clean(df.title[0])                # function call to clean the text"
   ]
  },
  {
   "cell_type": "markdown",
   "id": "c4557c8c",
   "metadata": {},
   "source": [
    "# Steaming"
   ]
  },
  {
   "cell_type": "code",
   "execution_count": 5,
   "id": "5f28df42",
   "metadata": {},
   "outputs": [],
   "source": [
    "# function to stem the data\n",
    "# stemming means grouping the words\n",
    "# after cleaning the data for further processing\n",
    "\n",
    "def stem(s):\n",
    "    fil=[]\n",
    "    for i in s:\n",
    "        if i not in stop:\n",
    "            s=(sno.stem(i).encode('utf8'))  # encoding the data into a clean file\n",
    "            fil.append(s)\n",
    "    s=b' '.join(fil)\n",
    "    return s"
   ]
  },
  {
   "cell_type": "code",
   "execution_count": 6,
   "id": "c8b9d007",
   "metadata": {},
   "outputs": [],
   "source": [
    "# creating the new columns \n",
    "# cleaned questions and cleaned tags\n",
    "# after cleaning the data\n",
    "ques=[]\n",
    "for j in df.title:\n",
    "    ques.append(stem(clean(j)))\n",
    "df['cleanQues'] = ques\n",
    "\n",
    "import re\n",
    "ctags=[]\n",
    "for i in df.tags:\n",
    "    ctags.append(re.sub('[^A-Za-z#+-]', ' ', i)) # search the pattern !(A-Z & a-z) and replace with ''\n",
    "df['cleanTags']=ctags"
   ]
  },
  {
   "cell_type": "markdown",
   "id": "7f52d4fa",
   "metadata": {},
   "source": [
    "# After cleaning and stemming"
   ]
  },
  {
   "cell_type": "code",
   "execution_count": 7,
   "id": "d41edc4f",
   "metadata": {},
   "outputs": [
    {
     "data": {
      "text/html": [
       "<div>\n",
       "<style scoped>\n",
       "    .dataframe tbody tr th:only-of-type {\n",
       "        vertical-align: middle;\n",
       "    }\n",
       "\n",
       "    .dataframe tbody tr th {\n",
       "        vertical-align: top;\n",
       "    }\n",
       "\n",
       "    .dataframe thead th {\n",
       "        text-align: right;\n",
       "    }\n",
       "</style>\n",
       "<table border=\"1\" class=\"dataframe\">\n",
       "  <thead>\n",
       "    <tr style=\"text-align: right;\">\n",
       "      <th></th>\n",
       "      <th>title</th>\n",
       "      <th>tags</th>\n",
       "      <th>cleanQues</th>\n",
       "      <th>cleanTags</th>\n",
       "    </tr>\n",
       "  </thead>\n",
       "  <tbody>\n",
       "    <tr>\n",
       "      <th>0</th>\n",
       "      <td>How to draw a stacked dotplot in R?</td>\n",
       "      <td>['r']</td>\n",
       "      <td>b'draw stack dotplot r'</td>\n",
       "      <td>r</td>\n",
       "    </tr>\n",
       "    <tr>\n",
       "      <th>1</th>\n",
       "      <td>mysql select all records where a datetime fiel...</td>\n",
       "      <td>['php', 'mysql']</td>\n",
       "      <td>b'mysql select record datetim field less speci...</td>\n",
       "      <td>php    mysql</td>\n",
       "    </tr>\n",
       "    <tr>\n",
       "      <th>2</th>\n",
       "      <td>How to terminate windows phone 8.1 app</td>\n",
       "      <td>['c#']</td>\n",
       "      <td>b'termin window phone  app'</td>\n",
       "      <td>c#</td>\n",
       "    </tr>\n",
       "    <tr>\n",
       "      <th>3</th>\n",
       "      <td>get current time in a specific country via jquery</td>\n",
       "      <td>['javascript', 'jquery']</td>\n",
       "      <td>b'get current time specif countri via jqueri'</td>\n",
       "      <td>javascript    jquery</td>\n",
       "    </tr>\n",
       "    <tr>\n",
       "      <th>4</th>\n",
       "      <td>Configuring Tomcat to Use SSL</td>\n",
       "      <td>['java']</td>\n",
       "      <td>b'configur tomcat use ssl'</td>\n",
       "      <td>java</td>\n",
       "    </tr>\n",
       "    <tr>\n",
       "      <th>5</th>\n",
       "      <td>Awesome nested set plugin - how to add new chi...</td>\n",
       "      <td>['ruby-on-rails']</td>\n",
       "      <td>b'awesom nest set plugin  add new children tre...</td>\n",
       "      <td>ruby-on-rails</td>\n",
       "    </tr>\n",
       "    <tr>\n",
       "      <th>6</th>\n",
       "      <td>How to create map from JSON response in Ruby o...</td>\n",
       "      <td>['ruby', 'ruby-on-rails-3', 'json']</td>\n",
       "      <td>b'creat map json respons rubi rail '</td>\n",
       "      <td>ruby    ruby-on-rails-     json</td>\n",
       "    </tr>\n",
       "    <tr>\n",
       "      <th>7</th>\n",
       "      <td>rspec test if method is called</td>\n",
       "      <td>['ruby']</td>\n",
       "      <td>b'rspec test method call'</td>\n",
       "      <td>ruby</td>\n",
       "    </tr>\n",
       "    <tr>\n",
       "      <th>8</th>\n",
       "      <td>SpringBoot Catalina LifeCycle Exception</td>\n",
       "      <td>['java', 'spring', 'spring-mvc']</td>\n",
       "      <td>b'springboot catalina lifecycl except'</td>\n",
       "      <td>java    spring    spring-mvc</td>\n",
       "    </tr>\n",
       "    <tr>\n",
       "      <th>9</th>\n",
       "      <td>How to import data from excel to mysql databas...</td>\n",
       "      <td>['php', 'codeigniter']</td>\n",
       "      <td>b'import data excel mysql databas use php'</td>\n",
       "      <td>php    codeigniter</td>\n",
       "    </tr>\n",
       "  </tbody>\n",
       "</table>\n",
       "</div>"
      ],
      "text/plain": [
       "                                               title  \\\n",
       "0                How to draw a stacked dotplot in R?   \n",
       "1  mysql select all records where a datetime fiel...   \n",
       "2             How to terminate windows phone 8.1 app   \n",
       "3  get current time in a specific country via jquery   \n",
       "4                      Configuring Tomcat to Use SSL   \n",
       "5  Awesome nested set plugin - how to add new chi...   \n",
       "6  How to create map from JSON response in Ruby o...   \n",
       "7                     rspec test if method is called   \n",
       "8            SpringBoot Catalina LifeCycle Exception   \n",
       "9  How to import data from excel to mysql databas...   \n",
       "\n",
       "                                  tags  \\\n",
       "0                                ['r']   \n",
       "1                     ['php', 'mysql']   \n",
       "2                               ['c#']   \n",
       "3             ['javascript', 'jquery']   \n",
       "4                             ['java']   \n",
       "5                    ['ruby-on-rails']   \n",
       "6  ['ruby', 'ruby-on-rails-3', 'json']   \n",
       "7                             ['ruby']   \n",
       "8     ['java', 'spring', 'spring-mvc']   \n",
       "9               ['php', 'codeigniter']   \n",
       "\n",
       "                                           cleanQues  \\\n",
       "0                            b'draw stack dotplot r'   \n",
       "1  b'mysql select record datetim field less speci...   \n",
       "2                        b'termin window phone  app'   \n",
       "3      b'get current time specif countri via jqueri'   \n",
       "4                         b'configur tomcat use ssl'   \n",
       "5  b'awesom nest set plugin  add new children tre...   \n",
       "6               b'creat map json respons rubi rail '   \n",
       "7                          b'rspec test method call'   \n",
       "8             b'springboot catalina lifecycl except'   \n",
       "9         b'import data excel mysql databas use php'   \n",
       "\n",
       "                             cleanTags  \n",
       "0                                  r    \n",
       "1                       php    mysql    \n",
       "2                                 c#    \n",
       "3               javascript    jquery    \n",
       "4                               java    \n",
       "5                      ruby-on-rails    \n",
       "6    ruby    ruby-on-rails-     json    \n",
       "7                               ruby    \n",
       "8       java    spring    spring-mvc    \n",
       "9                 php    codeigniter    "
      ]
     },
     "execution_count": 7,
     "metadata": {},
     "output_type": "execute_result"
    }
   ],
   "source": [
    "df.head(10)"
   ]
  },
  {
   "cell_type": "code",
   "execution_count": 8,
   "id": "e4ba75eb",
   "metadata": {},
   "outputs": [
    {
     "data": {
      "text/html": [
       "<div>\n",
       "<style scoped>\n",
       "    .dataframe tbody tr th:only-of-type {\n",
       "        vertical-align: middle;\n",
       "    }\n",
       "\n",
       "    .dataframe tbody tr th {\n",
       "        vertical-align: top;\n",
       "    }\n",
       "\n",
       "    .dataframe thead th {\n",
       "        text-align: right;\n",
       "    }\n",
       "</style>\n",
       "<table border=\"1\" class=\"dataframe\">\n",
       "  <thead>\n",
       "    <tr style=\"text-align: right;\">\n",
       "      <th></th>\n",
       "      <th>text</th>\n",
       "      <th>tags</th>\n",
       "    </tr>\n",
       "  </thead>\n",
       "  <tbody>\n",
       "    <tr>\n",
       "      <th>0</th>\n",
       "      <td>b'draw stack dotplot r'</td>\n",
       "      <td>r</td>\n",
       "    </tr>\n",
       "    <tr>\n",
       "      <th>1</th>\n",
       "      <td>b'mysql select record datetim field less speci...</td>\n",
       "      <td>php    mysql</td>\n",
       "    </tr>\n",
       "    <tr>\n",
       "      <th>2</th>\n",
       "      <td>b'termin window phone  app'</td>\n",
       "      <td>c#</td>\n",
       "    </tr>\n",
       "    <tr>\n",
       "      <th>3</th>\n",
       "      <td>b'get current time specif countri via jqueri'</td>\n",
       "      <td>javascript    jquery</td>\n",
       "    </tr>\n",
       "    <tr>\n",
       "      <th>4</th>\n",
       "      <td>b'configur tomcat use ssl'</td>\n",
       "      <td>java</td>\n",
       "    </tr>\n",
       "  </tbody>\n",
       "</table>\n",
       "</div>"
      ],
      "text/plain": [
       "                                                text                      tags\n",
       "0                            b'draw stack dotplot r'                       r  \n",
       "1  b'mysql select record datetim field less speci...            php    mysql  \n",
       "2                        b'termin window phone  app'                      c#  \n",
       "3      b'get current time specif countri via jqueri'    javascript    jquery  \n",
       "4                         b'configur tomcat use ssl'                    java  "
      ]
     },
     "execution_count": 8,
     "metadata": {},
     "output_type": "execute_result"
    }
   ],
   "source": [
    "# creating the new dataset that only \n",
    "# consists cleaned questions and tags\n",
    "\n",
    "d=pd.DataFrame()\n",
    "d['text']=df.cleanQues\n",
    "d['tags']=df.cleanTags\n",
    "d.to_csv('datafinal',index=False)\n",
    "df = pd.read_csv('datafinal')\n",
    "df.head()"
   ]
  },
  {
   "cell_type": "markdown",
   "id": "1f71e23b",
   "metadata": {},
   "source": [
    "# Splitting Datasets"
   ]
  },
  {
   "cell_type": "code",
   "execution_count": 9,
   "id": "d0261215",
   "metadata": {},
   "outputs": [],
   "source": [
    "# splitting the dataset to train and test in 80% and 20%\n",
    "\n",
    "from sklearn.model_selection import train_test_split\n",
    "x_train,x_test,y_train,y_test=train_test_split(df.text, df.tags, test_size=0.2, random_state=9)"
   ]
  },
  {
   "cell_type": "markdown",
   "id": "d84f4939",
   "metadata": {},
   "source": [
    "# Converting text and tags to vectors"
   ]
  },
  {
   "cell_type": "code",
   "execution_count": 11,
   "id": "faca6131",
   "metadata": {},
   "outputs": [],
   "source": [
    "# Used ti-idf , bow\n",
    "\n",
    "# importing TfidfVectorizer , CountVectorizer from sklearn.feature_extraction\n",
    "# to convert the text and tags to vectors\n",
    "# so that we can train and test the dataset\n",
    "\n",
    "from sklearn.feature_extraction.text import TfidfVectorizer,CountVectorizer\n",
    "tfvectorizer = TfidfVectorizer(min_df=0.00009, max_features=200000, smooth_idf=True, norm=\"l2\",\n",
    "                             tokenizer = lambda x: x.split(), sublinear_tf=False, ngram_range=(1,3))\n",
    "x_train_multilabel = tfvectorizer.fit_transform(x_train)\n",
    "x_test_multilabel = tfvectorizer.transform(x_test)\n",
    "\n",
    "vectorizer = CountVectorizer(tokenizer = lambda x: x.split(), binary=True)\n",
    "y_train_multilabel = vectorizer.fit_transform(y_train)\n",
    "y_test_multilabel = vectorizer.transform(y_test)"
   ]
  },
  {
   "cell_type": "markdown",
   "id": "22b02a91",
   "metadata": {},
   "source": [
    "# Traning Using One vs Rest"
   ]
  },
  {
   "cell_type": "code",
   "execution_count": 13,
   "id": "cbb1a88c",
   "metadata": {},
   "outputs": [
    {
     "name": "stdout",
     "output_type": "stream",
     "text": [
      "accuracy: 0.2834\n",
      "macro f1 score: 0.3844907670603581\n",
      "micro f1 score: 0.5823199799280757\n",
      "hamming loss: 0.0124855\n"
     ]
    }
   ],
   "source": [
    "from sklearn.multiclass import OneVsRestClassifier\n",
    "from sklearn.linear_model import LogisticRegression\n",
    "from sklearn import metrics\n",
    "\n",
    "classifier = OneVsRestClassifier(LogisticRegression(max_iter=1000, solver='liblinear'))\n",
    "classifier.fit(x_train_multilabel, y_train_multilabel)\n",
    "predictions = classifier.predict(x_test_multilabel)\n",
    "\n",
    "accuracy = metrics.accuracy_score(y_test_multilabel, predictions)\n",
    "macro_f1_score = metrics.f1_score(y_test_multilabel, predictions, average='macro')\n",
    "micro_f1_score = metrics.f1_score(y_test_multilabel, predictions, average='micro')\n",
    "hamming_loss = metrics.hamming_loss(y_test_multilabel, predictions)\n",
    "\n",
    "print(\"accuracy:\", accuracy)\n",
    "print(\"macro f1 score:\", macro_f1_score)\n",
    "print(\"micro f1 score:\", micro_f1_score)\n",
    "print(\"hamming loss:\", hamming_loss)"
   ]
  },
  {
   "cell_type": "markdown",
   "id": "e3322af3",
   "metadata": {},
   "source": [
    "# Classification reports"
   ]
  },
  {
   "cell_type": "code",
   "execution_count": 16,
   "id": "db82bd68",
   "metadata": {},
   "outputs": [
    {
     "name": "stdout",
     "output_type": "stream",
     "text": [
      "Precision recall report :\n",
      "               precision    recall  f1-score   support\n",
      "\n",
      "           0       0.77      0.40      0.52       327\n",
      "           1       0.60      0.03      0.06        96\n",
      "           2       0.95      0.47      0.63       555\n",
      "           3       0.97      0.56      0.71       294\n",
      "           4       0.83      0.06      0.11        83\n",
      "           5       0.56      0.31      0.40       447\n",
      "           6       0.90      0.34      0.50       950\n",
      "           7       0.78      0.19      0.30       588\n",
      "           8       0.86      0.54      0.66      3763\n",
      "           9       0.94      0.39      0.55      1295\n",
      "          10       0.42      0.05      0.09        96\n",
      "          11       0.00      0.00      0.00       101\n",
      "          12       0.98      0.59      0.73       140\n",
      "          13       0.65      0.13      0.21       359\n",
      "          14       0.76      0.48      0.59        87\n",
      "          15       0.20      0.01      0.03       150\n",
      "          16       0.50      0.11      0.19       132\n",
      "          17       0.48      0.14      0.21       109\n",
      "          18       0.98      0.73      0.83       350\n",
      "          19       0.58      0.09      0.16        74\n",
      "          20       0.93      0.39      0.55       199\n",
      "          21       0.80      0.35      0.49       134\n",
      "          22       0.69      0.26      0.38        95\n",
      "          23       0.90      0.56      0.69        93\n",
      "          24       0.17      0.01      0.02       106\n",
      "          25       0.35      0.07      0.12       158\n",
      "          26       0.14      0.01      0.02        92\n",
      "          27       0.84      0.34      0.48        91\n",
      "          28       0.69      0.46      0.55        89\n",
      "          29       0.97      0.46      0.63       167\n",
      "          30       0.62      0.21      0.32      1073\n",
      "          31       0.19      0.04      0.06       135\n",
      "          32       0.69      0.25      0.37       654\n",
      "          33       0.64      0.14      0.23       390\n",
      "          34       0.96      0.60      0.74      3773\n",
      "          35       0.91      0.68      0.78      3821\n",
      "          36       0.88      0.46      0.61      1501\n",
      "          37       1.00      0.26      0.41       150\n",
      "          38       0.89      0.54      0.67       412\n",
      "          39       0.95      0.25      0.40       157\n",
      "          40       0.86      0.41      0.56       121\n",
      "          41       0.90      0.40      0.56       199\n",
      "          42       0.83      0.12      0.21       158\n",
      "          43       0.64      0.15      0.24       152\n",
      "          44       0.42      0.06      0.11        82\n",
      "          45       0.91      0.23      0.37        87\n",
      "          46       1.00      0.12      0.22        48\n",
      "          47       0.72      0.31      0.43       234\n",
      "          48       0.91      0.40      0.56       618\n",
      "          49       0.84      0.28      0.42      1697\n",
      "          50       0.72      0.26      0.38       252\n",
      "          51       1.00      0.26      0.41       150\n",
      "          52       1.00      0.32      0.49        90\n",
      "          53       0.89      0.36      0.51       865\n",
      "          54       0.00      0.00      0.00        79\n",
      "          55       1.00      0.44      0.61        77\n",
      "          56       0.75      0.17      0.28        86\n",
      "          57       1.00      0.53      0.69        77\n",
      "          58       0.50      0.01      0.03        71\n",
      "          59       0.33      0.01      0.02        92\n",
      "          60       0.96      0.64      0.77      2765\n",
      "          61       0.58      0.11      0.19        63\n",
      "          62       0.96      0.60      0.74      1772\n",
      "          63       0.15      0.01      0.02       153\n",
      "          64       0.94      0.32      0.48        96\n",
      "          65       0.98      0.57      0.72       369\n",
      "          66       0.92      0.56      0.70       282\n",
      "          67       0.82      0.27      0.40       101\n",
      "          68       0.82      0.37      0.51       473\n",
      "          69       0.95      0.56      0.70       668\n",
      "          70       0.50      0.03      0.05       138\n",
      "          71       0.85      0.45      0.59        88\n",
      "          72       0.80      0.28      0.42        85\n",
      "          73       0.46      0.15      0.23        86\n",
      "          74       0.89      0.31      0.46       111\n",
      "          75       0.45      0.12      0.19        82\n",
      "          76       0.84      0.45      0.59       295\n",
      "          77       0.85      0.29      0.44       140\n",
      "          78       0.64      0.10      0.18       291\n",
      "          79       0.55      0.15      0.23       115\n",
      "          80       0.48      0.15      0.23       322\n",
      "          81       0.99      0.57      0.73       299\n",
      "          82       0.97      0.20      0.33       169\n",
      "          83       0.78      0.34      0.47        94\n",
      "          84       0.79      0.27      0.41        84\n",
      "          85       0.62      0.28      0.38        83\n",
      "          86       0.46      0.09      0.15       120\n",
      "          87       1.00      0.33      0.49       412\n",
      "          88       0.53      0.08      0.14       109\n",
      "          89       0.00      0.00      0.00       110\n",
      "          90       1.00      0.47      0.64        59\n",
      "          91       0.67      0.25      0.36       118\n",
      "          92       0.33      0.01      0.02       183\n",
      "          93       0.75      0.15      0.25       300\n",
      "          94       0.98      0.48      0.65        97\n",
      "          95       0.95      0.47      0.63       259\n",
      "          96       0.00      0.00      0.00        68\n",
      "          97       0.56      0.07      0.12        71\n",
      "          98       0.85      0.09      0.17       186\n",
      "          99       0.76      0.41      0.53       253\n",
      "\n",
      "   micro avg       0.88      0.43      0.58     40090\n",
      "   macro avg       0.72      0.28      0.38     40090\n",
      "weighted avg       0.84      0.43      0.56     40090\n",
      " samples avg       0.60      0.47      0.51     40090\n",
      "\n"
     ]
    }
   ],
   "source": [
    "# classification report\n",
    "print(\"Precision recall report :\\n\",metrics.classification_report(y_test_multilabel, predictions))"
   ]
  },
  {
   "cell_type": "code",
   "execution_count": 17,
   "id": "46dd727c",
   "metadata": {},
   "outputs": [],
   "source": [
    "# using dill saving the classification, tfvectorization nad vectorization \n",
    "# in three files and using them to predict the tags\n",
    "\n",
    "import dill\n",
    "model_data = 'model_data.sav'\n",
    "tfidf_data = 'tfidf_data.sav'\n",
    "bow_data = 'bow_data.sav'\n",
    "dill.dump(classifier, open(model_data, 'wb'))\n",
    "dill.dump(tfvectorizer, open(tfidf_data, 'wb'))\n",
    "dill.dump(vectorizer, open(bow_data, 'wb'))"
   ]
  },
  {
   "cell_type": "markdown",
   "id": "62c29e7a",
   "metadata": {},
   "source": [
    "\n"
   ]
  }
 ],
 "metadata": {
  "kernelspec": {
   "display_name": "Python 3 (ipykernel)",
   "language": "python",
   "name": "python3"
  },
  "language_info": {
   "codemirror_mode": {
    "name": "ipython",
    "version": 3
   },
   "file_extension": ".py",
   "mimetype": "text/x-python",
   "name": "python",
   "nbconvert_exporter": "python",
   "pygments_lexer": "ipython3",
   "version": "3.11.4"
  }
 },
 "nbformat": 4,
 "nbformat_minor": 5
}
